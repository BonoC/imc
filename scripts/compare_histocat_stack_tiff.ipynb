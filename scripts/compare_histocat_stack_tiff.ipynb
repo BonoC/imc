{
 "cells": [
  {
   "attachments": {},
   "cell_type": "markdown",
   "metadata": {},
   "source": [
    "# Compare TIFF images generated for HistoCat and CPOUT\n",
    "\n",
    "This script checks to see if the channel images from HistoCat and CPOUT for each acquisition are the same. Images haven't gone through hot pixel filtration."
   ]
  },
  {
   "cell_type": "code",
   "execution_count": 1,
   "metadata": {},
   "outputs": [],
   "source": [
    "import numpy as np\n",
    "import pandas as pd\n",
    "import tifffile\n",
    "from os import PathLike\n",
    "from pathlib import Path"
   ]
  },
  {
   "attachments": {},
   "cell_type": "markdown",
   "metadata": {},
   "source": [
    "### Specify directory storing histocat images and stacked images"
   ]
  },
  {
   "cell_type": "code",
   "execution_count": 2,
   "metadata": {},
   "outputs": [],
   "source": [
    "histo_dir = \"/Users/bonocheong/Desktop/PhD_Pre-readings/Imaging_Based Mass_Cytometry/ImcSegmentationPipeline/analysis/histocat\"\n",
    "histo_dir = Path(histo_dir)\n",
    "cpout_dir = \"/Users/bonocheong/Desktop/PhD_Pre-readings/Imaging_Based Mass_Cytometry/ImcSegmentationPipeline/analysis/cpout/images\"\n",
    "cpout_dir = Path(cpout_dir)"
   ]
  },
  {
   "attachments": {},
   "cell_type": "markdown",
   "metadata": {},
   "source": [
    "### Identify acquisitions for each MCD (slide)"
   ]
  },
  {
   "cell_type": "code",
   "execution_count": 3,
   "metadata": {},
   "outputs": [],
   "source": [
    "histo_acqs = list(histo_dir.glob(\"[!.]*\")) #a list object with Posix Path to each acquisition folder in histocat\n",
    "equal = {}\n",
    "not_equal = {}\n",
    "dict_csv = {}\n",
    "dict_img = {}\n",
    "for acq in histo_acqs:\n",
    "    equal_channels = []\n",
    "    not_equal_channels = []\n",
    "    acq_id = acq.stem\n",
    "    acq_histo_path = histo_dir / acq_id\n",
    "    for i in cpout_dir.glob(\"[!.]*\"):\n",
    "        if acq_id in str(i):\n",
    "            if i.suffix == \".csv\":\n",
    "                channel_file = pd.read_csv(i,header=None, index_col=None)\n",
    "                dict_csv[acq_id] = i #sanity check\n",
    "            if i.suffix == \".tiff\":\n",
    "                stacked_img = tifffile.imread(i)\n",
    "                dict_img[acq_id] = i #sanity check\n",
    "                assert stacked_img.ndim == 3\n",
    "                assert stacked_img.shape[0] == len(channel_file)\n",
    "    for index, channel in channel_file.iterrows():\n",
    "        channel_name = channel[0]\n",
    "        cpout_channel_img = stacked_img[index]\n",
    "        for histo_acq_channel in acq_histo_path.iterdir():\n",
    "            if channel_name in str(histo_acq_channel):\n",
    "                histo_channel_img = tifffile.imread(histo_acq_channel)    \n",
    "                #assert np.array_equal(histo_channel_img, cpout_channel_img) == True\n",
    "                if np.array_equal(histo_channel_img, cpout_channel_img) == True:\n",
    "                    equal_channels.append(channel_name)\n",
    "                if np.array_equal(histo_channel_img, cpout_channel_img) == False:\n",
    "                    not_equal_channels.append(channel_name)\n",
    "    equal[acq_id]=equal_channels\n",
    "    not_equal[acq_id]=not_equal_channels\n",
    "                \n",
    "        \n"
   ]
  },
  {
   "cell_type": "code",
   "execution_count": 5,
   "metadata": {},
   "outputs": [
    {
     "name": "stdout",
     "output_type": "stream",
     "text": [
      "Patient4_s0_a5_ac\n",
      "csv file is  /Users/bonocheong/Desktop/PhD_Pre-readings/Imaging_Based Mass_Cytometry/ImcSegmentationPipeline/analysis/cpout/images/Patient4_s0_a5_ac_full_noHPF.csv\n",
      "tiff file is  /Users/bonocheong/Desktop/PhD_Pre-readings/Imaging_Based Mass_Cytometry/ImcSegmentationPipeline/analysis/cpout/images/Patient4_s0_a5_ac_full_noHPF.tiff\n",
      "current file is  /Users/bonocheong/Desktop/PhD_Pre-readings/Imaging_Based Mass_Cytometry/ImcSegmentationPipeline/analysis/cpout/images/Patient4_s0_a5_ac_full_noHPF.csv\n",
      "Patient1_s0_a3_ac\n",
      "tiff file is  /Users/bonocheong/Desktop/PhD_Pre-readings/Imaging_Based Mass_Cytometry/ImcSegmentationPipeline/analysis/cpout/images/Patient1_s0_a3_ac_full_noHPF.tiff\n",
      "csv file is  /Users/bonocheong/Desktop/PhD_Pre-readings/Imaging_Based Mass_Cytometry/ImcSegmentationPipeline/analysis/cpout/images/Patient1_s0_a3_ac_full_noHPF.csv\n",
      "current file is  /Users/bonocheong/Desktop/PhD_Pre-readings/Imaging_Based Mass_Cytometry/ImcSegmentationPipeline/analysis/cpout/images/Patient1_s0_a3_ac_full_noHPF.csv\n",
      "Patient1_s0_a2_ac\n",
      "tiff file is  /Users/bonocheong/Desktop/PhD_Pre-readings/Imaging_Based Mass_Cytometry/ImcSegmentationPipeline/analysis/cpout/images/Patient1_s0_a2_ac_full_noHPF.tiff\n",
      "csv file is  /Users/bonocheong/Desktop/PhD_Pre-readings/Imaging_Based Mass_Cytometry/ImcSegmentationPipeline/analysis/cpout/images/Patient1_s0_a2_ac_full_noHPF.csv\n",
      "current file is  /Users/bonocheong/Desktop/PhD_Pre-readings/Imaging_Based Mass_Cytometry/ImcSegmentationPipeline/analysis/cpout/images/Patient1_s0_a2_ac_full_noHPF.csv\n",
      "Patient2_s0_a4_ac\n",
      "tiff file is  /Users/bonocheong/Desktop/PhD_Pre-readings/Imaging_Based Mass_Cytometry/ImcSegmentationPipeline/analysis/cpout/images/Patient2_s0_a4_ac_full_noHPF.tiff\n",
      "csv file is  /Users/bonocheong/Desktop/PhD_Pre-readings/Imaging_Based Mass_Cytometry/ImcSegmentationPipeline/analysis/cpout/images/Patient2_s0_a4_ac_full_noHPF.csv\n",
      "current file is  /Users/bonocheong/Desktop/PhD_Pre-readings/Imaging_Based Mass_Cytometry/ImcSegmentationPipeline/analysis/cpout/images/Patient2_s0_a4_ac_full_noHPF.csv\n",
      "Patient2_s0_a1_ac\n",
      "tiff file is  /Users/bonocheong/Desktop/PhD_Pre-readings/Imaging_Based Mass_Cytometry/ImcSegmentationPipeline/analysis/cpout/images/Patient2_s0_a1_ac_full_noHPF.tiff\n",
      "csv file is  /Users/bonocheong/Desktop/PhD_Pre-readings/Imaging_Based Mass_Cytometry/ImcSegmentationPipeline/analysis/cpout/images/Patient2_s0_a1_ac_full_noHPF.csv\n",
      "current file is  /Users/bonocheong/Desktop/PhD_Pre-readings/Imaging_Based Mass_Cytometry/ImcSegmentationPipeline/analysis/cpout/images/Patient2_s0_a1_ac_full_noHPF.csv\n",
      "Patient3_s0_a1_ac\n",
      "csv file is  /Users/bonocheong/Desktop/PhD_Pre-readings/Imaging_Based Mass_Cytometry/ImcSegmentationPipeline/analysis/cpout/images/Patient3_s0_a1_ac_full_noHPF.csv\n",
      "tiff file is  /Users/bonocheong/Desktop/PhD_Pre-readings/Imaging_Based Mass_Cytometry/ImcSegmentationPipeline/analysis/cpout/images/Patient3_s0_a1_ac_full_noHPF.tiff\n",
      "current file is  /Users/bonocheong/Desktop/PhD_Pre-readings/Imaging_Based Mass_Cytometry/ImcSegmentationPipeline/analysis/cpout/images/Patient3_s0_a1_ac_full_noHPF.csv\n",
      "Patient2_s0_a2_ac\n",
      "tiff file is  /Users/bonocheong/Desktop/PhD_Pre-readings/Imaging_Based Mass_Cytometry/ImcSegmentationPipeline/analysis/cpout/images/Patient2_s0_a2_ac_full_noHPF.tiff\n",
      "csv file is  /Users/bonocheong/Desktop/PhD_Pre-readings/Imaging_Based Mass_Cytometry/ImcSegmentationPipeline/analysis/cpout/images/Patient2_s0_a2_ac_full_noHPF.csv\n",
      "current file is  /Users/bonocheong/Desktop/PhD_Pre-readings/Imaging_Based Mass_Cytometry/ImcSegmentationPipeline/analysis/cpout/images/Patient2_s0_a2_ac_full_noHPF.csv\n",
      "Patient3_s0_a2_ac\n",
      "csv file is  /Users/bonocheong/Desktop/PhD_Pre-readings/Imaging_Based Mass_Cytometry/ImcSegmentationPipeline/analysis/cpout/images/Patient3_s0_a2_ac_full_noHPF.csv\n",
      "tiff file is  /Users/bonocheong/Desktop/PhD_Pre-readings/Imaging_Based Mass_Cytometry/ImcSegmentationPipeline/analysis/cpout/images/Patient3_s0_a2_ac_full_noHPF.tiff\n",
      "current file is  /Users/bonocheong/Desktop/PhD_Pre-readings/Imaging_Based Mass_Cytometry/ImcSegmentationPipeline/analysis/cpout/images/Patient3_s0_a2_ac_full_noHPF.csv\n",
      "Patient2_s0_a3_ac\n",
      "csv file is  /Users/bonocheong/Desktop/PhD_Pre-readings/Imaging_Based Mass_Cytometry/ImcSegmentationPipeline/analysis/cpout/images/Patient2_s0_a3_ac_full_noHPF.csv\n",
      "tiff file is  /Users/bonocheong/Desktop/PhD_Pre-readings/Imaging_Based Mass_Cytometry/ImcSegmentationPipeline/analysis/cpout/images/Patient2_s0_a3_ac_full_noHPF.tiff\n",
      "current file is  /Users/bonocheong/Desktop/PhD_Pre-readings/Imaging_Based Mass_Cytometry/ImcSegmentationPipeline/analysis/cpout/images/Patient2_s0_a3_ac_full_noHPF.csv\n",
      "Patient3_s0_a3_ac\n",
      "csv file is  /Users/bonocheong/Desktop/PhD_Pre-readings/Imaging_Based Mass_Cytometry/ImcSegmentationPipeline/analysis/cpout/images/Patient3_s0_a3_ac_full_noHPF.csv\n",
      "tiff file is  /Users/bonocheong/Desktop/PhD_Pre-readings/Imaging_Based Mass_Cytometry/ImcSegmentationPipeline/analysis/cpout/images/Patient3_s0_a3_ac_full_noHPF.tiff\n",
      "current file is  /Users/bonocheong/Desktop/PhD_Pre-readings/Imaging_Based Mass_Cytometry/ImcSegmentationPipeline/analysis/cpout/images/Patient3_s0_a3_ac_full_noHPF.csv\n",
      "Patient4_s0_a8_ac\n",
      "tiff file is  /Users/bonocheong/Desktop/PhD_Pre-readings/Imaging_Based Mass_Cytometry/ImcSegmentationPipeline/analysis/cpout/images/Patient4_s0_a8_ac_full_noHPF.tiff\n",
      "csv file is  /Users/bonocheong/Desktop/PhD_Pre-readings/Imaging_Based Mass_Cytometry/ImcSegmentationPipeline/analysis/cpout/images/Patient4_s0_a8_ac_full_noHPF.csv\n",
      "current file is  /Users/bonocheong/Desktop/PhD_Pre-readings/Imaging_Based Mass_Cytometry/ImcSegmentationPipeline/analysis/cpout/images/Patient4_s0_a8_ac_full_noHPF.csv\n",
      "Patient1_s0_a1_ac\n",
      "csv file is  /Users/bonocheong/Desktop/PhD_Pre-readings/Imaging_Based Mass_Cytometry/ImcSegmentationPipeline/analysis/cpout/images/Patient1_s0_a1_ac_full_noHPF.csv\n",
      "tiff file is  /Users/bonocheong/Desktop/PhD_Pre-readings/Imaging_Based Mass_Cytometry/ImcSegmentationPipeline/analysis/cpout/images/Patient1_s0_a1_ac_full_noHPF.tiff\n",
      "current file is  /Users/bonocheong/Desktop/PhD_Pre-readings/Imaging_Based Mass_Cytometry/ImcSegmentationPipeline/analysis/cpout/images/Patient1_s0_a1_ac_full_noHPF.csv\n",
      "Patient4_s0_a7_ac\n",
      "csv file is  /Users/bonocheong/Desktop/PhD_Pre-readings/Imaging_Based Mass_Cytometry/ImcSegmentationPipeline/analysis/cpout/images/Patient4_s0_a7_ac_full_noHPF.csv\n",
      "tiff file is  /Users/bonocheong/Desktop/PhD_Pre-readings/Imaging_Based Mass_Cytometry/ImcSegmentationPipeline/analysis/cpout/images/Patient4_s0_a7_ac_full_noHPF.tiff\n",
      "current file is  /Users/bonocheong/Desktop/PhD_Pre-readings/Imaging_Based Mass_Cytometry/ImcSegmentationPipeline/analysis/cpout/images/Patient4_s0_a7_ac_full_noHPF.csv\n",
      "Patient4_s0_a6_ac\n",
      "tiff file is  /Users/bonocheong/Desktop/PhD_Pre-readings/Imaging_Based Mass_Cytometry/ImcSegmentationPipeline/analysis/cpout/images/Patient4_s0_a6_ac_full_noHPF.tiff\n",
      "csv file is  /Users/bonocheong/Desktop/PhD_Pre-readings/Imaging_Based Mass_Cytometry/ImcSegmentationPipeline/analysis/cpout/images/Patient4_s0_a6_ac_full_noHPF.csv\n",
      "current file is  /Users/bonocheong/Desktop/PhD_Pre-readings/Imaging_Based Mass_Cytometry/ImcSegmentationPipeline/analysis/cpout/images/Patient4_s0_a6_ac_full_noHPF.csv\n"
     ]
    }
   ],
   "source": [
    "for acq in histo_acqs:\n",
    "    acq_id = acq.stem\n",
    "    print(acq_id)\n",
    "    for i in cpout_dir.glob(\"[!.]*\"):\n",
    "        if acq_id in str(i):\n",
    "            if i.suffix == \".csv\":\n",
    "                u=i\n",
    "                print(\"csv file is \",i)\n",
    "            if i.suffix == \".tiff\":\n",
    "                print(\"tiff file is \",i)\n",
    "    print(\"current file is \",u)\n",
    "        \n",
    "                \n",
    "            \n",
    "        \n",
    "        "
   ]
  },
  {
   "cell_type": "code",
   "execution_count": null,
   "metadata": {},
   "outputs": [],
   "source": []
  },
  {
   "cell_type": "code",
   "execution_count": null,
   "metadata": {},
   "outputs": [],
   "source": []
  }
 ],
 "metadata": {
  "kernelspec": {
   "display_name": "imc",
   "language": "python",
   "name": "python3"
  },
  "language_info": {
   "codemirror_mode": {
    "name": "ipython",
    "version": 3
   },
   "file_extension": ".py",
   "mimetype": "text/x-python",
   "name": "python",
   "nbconvert_exporter": "python",
   "pygments_lexer": "ipython3",
   "version": "3.9.7"
  },
  "orig_nbformat": 4
 },
 "nbformat": 4,
 "nbformat_minor": 2
}
